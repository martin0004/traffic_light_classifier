{
 "cells": [
  {
   "cell_type": "markdown",
   "id": "57f88590-b7a0-40df-8dc3-c4d8755a0e0d",
   "metadata": {},
   "source": [
    "# Classifier Training"
   ]
  },
  {
   "cell_type": "code",
   "execution_count": 1,
   "id": "a88b2560-fd5a-4576-a35f-b4bf0e2b843f",
   "metadata": {},
   "outputs": [],
   "source": [
    "# Import all dependencies\n",
    "\n",
    "import sys  \n",
    "sys.path.insert(0, \"../src\")\n",
    "\n",
    "from classify import *         # Module containing classifier\n",
    "\n",
    "# Print parameters\n",
    "pd.set_option('expand_frame_repr', False)\n",
    "#pd.set_option('display.max_rows', None)\n",
    "\n",
    "import plotly.io as pio                    # Need this so JupyterLab plotly images show up in GitHub.\n",
    "pio.renderers.default=\"plotly_mimetype\"    # \"   \""
   ]
  },
  {
   "cell_type": "code",
   "execution_count": 2,
   "id": "bd6bded3-8d38-4e39-98d7-da7c28defed1",
   "metadata": {},
   "outputs": [],
   "source": [
    "# Global variables (for this notebook)\n",
    "\n",
    "DIR_TRAIN = \"../images/traffic_light_images/training\"\n",
    "DIR_TEST  = \"../images/traffic_light_images/test\"\n",
    "\n",
    "# Training and testing datasets\n",
    "\n",
    "df_train, df_train_true_labels = DataLoader(CLASSES).load_dataset(DIR_TRAIN)\n",
    "df_test, df_test_true_labels = DataLoader(CLASSES).load_dataset(DIR_TEST)"
   ]
  },
  {
   "cell_type": "code",
   "execution_count": 3,
   "id": "6b2fd090-27cb-481d-9f17-41146c5b1f60",
   "metadata": {},
   "outputs": [
    {
     "name": "stdout",
     "output_type": "stream",
     "text": [
      "|    |   img_size |   crop_left |   crop_top |   w1 |   w2 |   accuracy |   reds_predicted_green |\n",
      "|---:|-----------:|------------:|-----------:|-----:|-----:|-----------:|-----------------------:|\n",
      "|  0 |         32 |          10 |          1 |    1 |    1 |      0.864 |                      0 |\n",
      "|  1 |         32 |          10 |          1 |    1 |    0 |      0.955 |                      1 |\n",
      "|  2 |         32 |          10 |          1 |    0 |    1 |      0.848 |                      0 |\n",
      "|  3 |         32 |          10 |          1 |    1 |    1 |      0.864 |                      0 |\n",
      "|  4 |         32 |          10 |          1 |    2 |    1 |      0.877 |                      0 |\n",
      "|  5 |         32 |          10 |          1 |    1 |    2 |      0.858 |                      0 |\n",
      "|  6 |         32 |          12 |          2 |    1 |    0 |      0.984 |                      5 |\n",
      "|  7 |         32 |          12 |          2 |    0 |    1 |      0.865 |                      0 |\n",
      "|  8 |         32 |          12 |          2 |    1 |    1 |      0.884 |                      0 |\n",
      "|  9 |         32 |          12 |          2 |    2 |    1 |      0.907 |                      0 |\n",
      "| 10 |         32 |          12 |          2 |    1 |    2 |      0.88  |                      0 |\n"
     ]
    }
   ],
   "source": [
    "# Training Loops\n",
    "\n",
    "# Define parameters for each run\n",
    "\n",
    "# df_runs\n",
    "#\n",
    "# Dataframe which holds the parameters for every training run\n",
    "# & stores the evaluation metrics at the end of every run.\n",
    "#\n",
    "# df_runs.loc[i] = input parameters & evaluation metrics for training run i\n",
    "#                  (indexes start at 0)\n",
    "\n",
    "df_runs = pd.DataFrame(columns=[\"img_size\", \"crop_left\", \"crop_top\", \"w1\", \"w2\"])\n",
    "\n",
    "# Run \"0\" is our benchmark\n",
    "df_runs = df_runs.append({\"img_size\": 32, \"crop_left\": 10, \"crop_top\": 1, \"w1\": 1, \"w2\": 1, \"accuracy\": \"-\", \"reds_predicted_green\": \"-\"}, ignore_index=True)\n",
    "\n",
    "# Runs similar to benchmark, with different weights\n",
    "df_runs = df_runs.append({\"img_size\": 32, \"crop_left\": 10, \"crop_top\": 1, \"w1\": 1, \"w2\": 0, \"accuracy\": \"-\", \"reds_predicted_green\": \"-\"}, ignore_index=True)\n",
    "df_runs = df_runs.append({\"img_size\": 32, \"crop_left\": 10, \"crop_top\": 1, \"w1\": 0, \"w2\": 1, \"accuracy\": \"-\", \"reds_predicted_green\": \"-\"}, ignore_index=True)\n",
    "df_runs = df_runs.append({\"img_size\": 32, \"crop_left\": 10, \"crop_top\": 1, \"w1\": 1, \"w2\": 1, \"accuracy\": \"-\", \"reds_predicted_green\": \"-\"}, ignore_index=True)\n",
    "df_runs = df_runs.append({\"img_size\": 32, \"crop_left\": 10, \"crop_top\": 1, \"w1\": 2, \"w2\": 1, \"accuracy\": \"-\", \"reds_predicted_green\": \"-\"}, ignore_index=True)\n",
    "df_runs = df_runs.append({\"img_size\": 32, \"crop_left\": 10, \"crop_top\": 1, \"w1\": 1, \"w2\": 2, \"accuracy\": \"-\", \"reds_predicted_green\": \"-\"}, ignore_index=True)\n",
    "\n",
    "# Greater cropped area\n",
    "df_runs = df_runs.append({\"img_size\": 32, \"crop_left\": 12, \"crop_top\": 2, \"w1\": 1, \"w2\": 0, \"accuracy\": \"-\", \"reds_predicted_green\": \"-\"}, ignore_index=True)\n",
    "df_runs = df_runs.append({\"img_size\": 32, \"crop_left\": 12, \"crop_top\": 2, \"w1\": 0, \"w2\": 1, \"accuracy\": \"-\", \"reds_predicted_green\": \"-\"}, ignore_index=True)\n",
    "df_runs = df_runs.append({\"img_size\": 32, \"crop_left\": 12, \"crop_top\": 2, \"w1\": 1, \"w2\": 1, \"accuracy\": \"-\", \"reds_predicted_green\": \"-\"}, ignore_index=True)\n",
    "df_runs = df_runs.append({\"img_size\": 32, \"crop_left\": 12, \"crop_top\": 2, \"w1\": 2, \"w2\": 1, \"accuracy\": \"-\", \"reds_predicted_green\": \"-\"}, ignore_index=True)\n",
    "df_runs = df_runs.append({\"img_size\": 32, \"crop_left\": 12, \"crop_top\": 2, \"w1\": 1, \"w2\": 2, \"accuracy\": \"-\", \"reds_predicted_green\": \"-\"}, ignore_index=True)\n",
    "\n",
    "# Run training loops\n",
    "\n",
    "n_runs = len(df_runs)\n",
    "\n",
    "for i in range(n_runs):\n",
    "\n",
    "    # Parameters for this run    \n",
    "    \n",
    "    s_params = df_runs.loc[i]\n",
    "    \n",
    "    img_size = s_params[\"img_size\"]\n",
    "    crop_left = s_params[\"crop_left\"]\n",
    "    crop_top = s_params[\"crop_top\"]\n",
    "    w1 = s_params[\"w1\"]\n",
    "    w2 = s_params[\"w2\"]\n",
    "    \n",
    "    # Make predictions on training dataset\n",
    "    \n",
    "    df_train_predictions = Classifier(img_size, crop_left, crop_top, w1, w2).run(df_train)\n",
    "    \n",
    "    # Derive evaluation metrics\n",
    "\n",
    "    metrics = Evaluator().run(df_train_true_labels[\"label\"], df_train_predictions[\"y_bar\"])\n",
    "    \n",
    "    df_runs[\"accuracy\"][i] = np.round(metrics[\"accuracy\"],3)\n",
    "    df_runs[\"reds_predicted_green\"][i] = len(metrics[\"reds_predicted_green\"])\n",
    "    \n",
    "print(df_runs.to_markdown())    \n"
   ]
  },
  {
   "cell_type": "markdown",
   "id": "7acc9f2c-6eae-453c-a1e0-67b4bc90a5fa",
   "metadata": {},
   "source": [
    "# Selected parameters"
   ]
  },
  {
   "cell_type": "code",
   "execution_count": 4,
   "id": "2cd751f5-6e34-42c2-904c-e771a4284b49",
   "metadata": {},
   "outputs": [
    {
     "data": {
      "application/vnd.plotly.v1+json": {
       "config": {
        "plotlyServerURL": "https://plot.ly"
       },
       "data": [
        {
         "cells": {
          "font": {
           "size": 16
          },
          "height": 24,
          "values": [
           [
            "Accuracy",
            "Reds Predicted Green"
           ],
           [
            "0.907",
            0
           ]
          ]
         },
         "columnwidth": [
          200,
          100
         ],
         "domain": {
          "x": [
           0,
           0.45
          ],
          "y": [
           0,
           1
          ]
         },
         "header": {
          "font": {
           "size": 16
          },
          "values": [
           "Metric",
           "Value"
          ]
         },
         "type": "table"
        },
        {
         "marker": {
          "color": "blue"
         },
         "type": "bar",
         "x": [
          "Predicted Right",
          "Predicted Wrong"
         ],
         "xaxis": "x",
         "y": [
          1077,
          110
         ],
         "yaxis": "y"
        }
       ],
       "layout": {
        "height": 400,
        "template": {
         "data": {
          "bar": [
           {
            "error_x": {
             "color": "#2a3f5f"
            },
            "error_y": {
             "color": "#2a3f5f"
            },
            "marker": {
             "line": {
              "color": "#E5ECF6",
              "width": 0.5
             },
             "pattern": {
              "fillmode": "overlay",
              "size": 10,
              "solidity": 0.2
             }
            },
            "type": "bar"
           }
          ],
          "barpolar": [
           {
            "marker": {
             "line": {
              "color": "#E5ECF6",
              "width": 0.5
             },
             "pattern": {
              "fillmode": "overlay",
              "size": 10,
              "solidity": 0.2
             }
            },
            "type": "barpolar"
           }
          ],
          "carpet": [
           {
            "aaxis": {
             "endlinecolor": "#2a3f5f",
             "gridcolor": "white",
             "linecolor": "white",
             "minorgridcolor": "white",
             "startlinecolor": "#2a3f5f"
            },
            "baxis": {
             "endlinecolor": "#2a3f5f",
             "gridcolor": "white",
             "linecolor": "white",
             "minorgridcolor": "white",
             "startlinecolor": "#2a3f5f"
            },
            "type": "carpet"
           }
          ],
          "choropleth": [
           {
            "colorbar": {
             "outlinewidth": 0,
             "ticks": ""
            },
            "type": "choropleth"
           }
          ],
          "contour": [
           {
            "colorbar": {
             "outlinewidth": 0,
             "ticks": ""
            },
            "colorscale": [
             [
              0,
              "#0d0887"
             ],
             [
              0.1111111111111111,
              "#46039f"
             ],
             [
              0.2222222222222222,
              "#7201a8"
             ],
             [
              0.3333333333333333,
              "#9c179e"
             ],
             [
              0.4444444444444444,
              "#bd3786"
             ],
             [
              0.5555555555555556,
              "#d8576b"
             ],
             [
              0.6666666666666666,
              "#ed7953"
             ],
             [
              0.7777777777777778,
              "#fb9f3a"
             ],
             [
              0.8888888888888888,
              "#fdca26"
             ],
             [
              1,
              "#f0f921"
             ]
            ],
            "type": "contour"
           }
          ],
          "contourcarpet": [
           {
            "colorbar": {
             "outlinewidth": 0,
             "ticks": ""
            },
            "type": "contourcarpet"
           }
          ],
          "heatmap": [
           {
            "colorbar": {
             "outlinewidth": 0,
             "ticks": ""
            },
            "colorscale": [
             [
              0,
              "#0d0887"
             ],
             [
              0.1111111111111111,
              "#46039f"
             ],
             [
              0.2222222222222222,
              "#7201a8"
             ],
             [
              0.3333333333333333,
              "#9c179e"
             ],
             [
              0.4444444444444444,
              "#bd3786"
             ],
             [
              0.5555555555555556,
              "#d8576b"
             ],
             [
              0.6666666666666666,
              "#ed7953"
             ],
             [
              0.7777777777777778,
              "#fb9f3a"
             ],
             [
              0.8888888888888888,
              "#fdca26"
             ],
             [
              1,
              "#f0f921"
             ]
            ],
            "type": "heatmap"
           }
          ],
          "heatmapgl": [
           {
            "colorbar": {
             "outlinewidth": 0,
             "ticks": ""
            },
            "colorscale": [
             [
              0,
              "#0d0887"
             ],
             [
              0.1111111111111111,
              "#46039f"
             ],
             [
              0.2222222222222222,
              "#7201a8"
             ],
             [
              0.3333333333333333,
              "#9c179e"
             ],
             [
              0.4444444444444444,
              "#bd3786"
             ],
             [
              0.5555555555555556,
              "#d8576b"
             ],
             [
              0.6666666666666666,
              "#ed7953"
             ],
             [
              0.7777777777777778,
              "#fb9f3a"
             ],
             [
              0.8888888888888888,
              "#fdca26"
             ],
             [
              1,
              "#f0f921"
             ]
            ],
            "type": "heatmapgl"
           }
          ],
          "histogram": [
           {
            "marker": {
             "pattern": {
              "fillmode": "overlay",
              "size": 10,
              "solidity": 0.2
             }
            },
            "type": "histogram"
           }
          ],
          "histogram2d": [
           {
            "colorbar": {
             "outlinewidth": 0,
             "ticks": ""
            },
            "colorscale": [
             [
              0,
              "#0d0887"
             ],
             [
              0.1111111111111111,
              "#46039f"
             ],
             [
              0.2222222222222222,
              "#7201a8"
             ],
             [
              0.3333333333333333,
              "#9c179e"
             ],
             [
              0.4444444444444444,
              "#bd3786"
             ],
             [
              0.5555555555555556,
              "#d8576b"
             ],
             [
              0.6666666666666666,
              "#ed7953"
             ],
             [
              0.7777777777777778,
              "#fb9f3a"
             ],
             [
              0.8888888888888888,
              "#fdca26"
             ],
             [
              1,
              "#f0f921"
             ]
            ],
            "type": "histogram2d"
           }
          ],
          "histogram2dcontour": [
           {
            "colorbar": {
             "outlinewidth": 0,
             "ticks": ""
            },
            "colorscale": [
             [
              0,
              "#0d0887"
             ],
             [
              0.1111111111111111,
              "#46039f"
             ],
             [
              0.2222222222222222,
              "#7201a8"
             ],
             [
              0.3333333333333333,
              "#9c179e"
             ],
             [
              0.4444444444444444,
              "#bd3786"
             ],
             [
              0.5555555555555556,
              "#d8576b"
             ],
             [
              0.6666666666666666,
              "#ed7953"
             ],
             [
              0.7777777777777778,
              "#fb9f3a"
             ],
             [
              0.8888888888888888,
              "#fdca26"
             ],
             [
              1,
              "#f0f921"
             ]
            ],
            "type": "histogram2dcontour"
           }
          ],
          "mesh3d": [
           {
            "colorbar": {
             "outlinewidth": 0,
             "ticks": ""
            },
            "type": "mesh3d"
           }
          ],
          "parcoords": [
           {
            "line": {
             "colorbar": {
              "outlinewidth": 0,
              "ticks": ""
             }
            },
            "type": "parcoords"
           }
          ],
          "pie": [
           {
            "automargin": true,
            "type": "pie"
           }
          ],
          "scatter": [
           {
            "marker": {
             "colorbar": {
              "outlinewidth": 0,
              "ticks": ""
             }
            },
            "type": "scatter"
           }
          ],
          "scatter3d": [
           {
            "line": {
             "colorbar": {
              "outlinewidth": 0,
              "ticks": ""
             }
            },
            "marker": {
             "colorbar": {
              "outlinewidth": 0,
              "ticks": ""
             }
            },
            "type": "scatter3d"
           }
          ],
          "scattercarpet": [
           {
            "marker": {
             "colorbar": {
              "outlinewidth": 0,
              "ticks": ""
             }
            },
            "type": "scattercarpet"
           }
          ],
          "scattergeo": [
           {
            "marker": {
             "colorbar": {
              "outlinewidth": 0,
              "ticks": ""
             }
            },
            "type": "scattergeo"
           }
          ],
          "scattergl": [
           {
            "marker": {
             "colorbar": {
              "outlinewidth": 0,
              "ticks": ""
             }
            },
            "type": "scattergl"
           }
          ],
          "scattermapbox": [
           {
            "marker": {
             "colorbar": {
              "outlinewidth": 0,
              "ticks": ""
             }
            },
            "type": "scattermapbox"
           }
          ],
          "scatterpolar": [
           {
            "marker": {
             "colorbar": {
              "outlinewidth": 0,
              "ticks": ""
             }
            },
            "type": "scatterpolar"
           }
          ],
          "scatterpolargl": [
           {
            "marker": {
             "colorbar": {
              "outlinewidth": 0,
              "ticks": ""
             }
            },
            "type": "scatterpolargl"
           }
          ],
          "scatterternary": [
           {
            "marker": {
             "colorbar": {
              "outlinewidth": 0,
              "ticks": ""
             }
            },
            "type": "scatterternary"
           }
          ],
          "surface": [
           {
            "colorbar": {
             "outlinewidth": 0,
             "ticks": ""
            },
            "colorscale": [
             [
              0,
              "#0d0887"
             ],
             [
              0.1111111111111111,
              "#46039f"
             ],
             [
              0.2222222222222222,
              "#7201a8"
             ],
             [
              0.3333333333333333,
              "#9c179e"
             ],
             [
              0.4444444444444444,
              "#bd3786"
             ],
             [
              0.5555555555555556,
              "#d8576b"
             ],
             [
              0.6666666666666666,
              "#ed7953"
             ],
             [
              0.7777777777777778,
              "#fb9f3a"
             ],
             [
              0.8888888888888888,
              "#fdca26"
             ],
             [
              1,
              "#f0f921"
             ]
            ],
            "type": "surface"
           }
          ],
          "table": [
           {
            "cells": {
             "fill": {
              "color": "#EBF0F8"
             },
             "line": {
              "color": "white"
             }
            },
            "header": {
             "fill": {
              "color": "#C8D4E3"
             },
             "line": {
              "color": "white"
             }
            },
            "type": "table"
           }
          ]
         },
         "layout": {
          "annotationdefaults": {
           "arrowcolor": "#2a3f5f",
           "arrowhead": 0,
           "arrowwidth": 1
          },
          "autotypenumbers": "strict",
          "coloraxis": {
           "colorbar": {
            "outlinewidth": 0,
            "ticks": ""
           }
          },
          "colorscale": {
           "diverging": [
            [
             0,
             "#8e0152"
            ],
            [
             0.1,
             "#c51b7d"
            ],
            [
             0.2,
             "#de77ae"
            ],
            [
             0.3,
             "#f1b6da"
            ],
            [
             0.4,
             "#fde0ef"
            ],
            [
             0.5,
             "#f7f7f7"
            ],
            [
             0.6,
             "#e6f5d0"
            ],
            [
             0.7,
             "#b8e186"
            ],
            [
             0.8,
             "#7fbc41"
            ],
            [
             0.9,
             "#4d9221"
            ],
            [
             1,
             "#276419"
            ]
           ],
           "sequential": [
            [
             0,
             "#0d0887"
            ],
            [
             0.1111111111111111,
             "#46039f"
            ],
            [
             0.2222222222222222,
             "#7201a8"
            ],
            [
             0.3333333333333333,
             "#9c179e"
            ],
            [
             0.4444444444444444,
             "#bd3786"
            ],
            [
             0.5555555555555556,
             "#d8576b"
            ],
            [
             0.6666666666666666,
             "#ed7953"
            ],
            [
             0.7777777777777778,
             "#fb9f3a"
            ],
            [
             0.8888888888888888,
             "#fdca26"
            ],
            [
             1,
             "#f0f921"
            ]
           ],
           "sequentialminus": [
            [
             0,
             "#0d0887"
            ],
            [
             0.1111111111111111,
             "#46039f"
            ],
            [
             0.2222222222222222,
             "#7201a8"
            ],
            [
             0.3333333333333333,
             "#9c179e"
            ],
            [
             0.4444444444444444,
             "#bd3786"
            ],
            [
             0.5555555555555556,
             "#d8576b"
            ],
            [
             0.6666666666666666,
             "#ed7953"
            ],
            [
             0.7777777777777778,
             "#fb9f3a"
            ],
            [
             0.8888888888888888,
             "#fdca26"
            ],
            [
             1,
             "#f0f921"
            ]
           ]
          },
          "colorway": [
           "#636efa",
           "#EF553B",
           "#00cc96",
           "#ab63fa",
           "#FFA15A",
           "#19d3f3",
           "#FF6692",
           "#B6E880",
           "#FF97FF",
           "#FECB52"
          ],
          "font": {
           "color": "#2a3f5f"
          },
          "geo": {
           "bgcolor": "white",
           "lakecolor": "white",
           "landcolor": "#E5ECF6",
           "showlakes": true,
           "showland": true,
           "subunitcolor": "white"
          },
          "hoverlabel": {
           "align": "left"
          },
          "hovermode": "closest",
          "mapbox": {
           "style": "light"
          },
          "paper_bgcolor": "white",
          "plot_bgcolor": "#E5ECF6",
          "polar": {
           "angularaxis": {
            "gridcolor": "white",
            "linecolor": "white",
            "ticks": ""
           },
           "bgcolor": "#E5ECF6",
           "radialaxis": {
            "gridcolor": "white",
            "linecolor": "white",
            "ticks": ""
           }
          },
          "scene": {
           "xaxis": {
            "backgroundcolor": "#E5ECF6",
            "gridcolor": "white",
            "gridwidth": 2,
            "linecolor": "white",
            "showbackground": true,
            "ticks": "",
            "zerolinecolor": "white"
           },
           "yaxis": {
            "backgroundcolor": "#E5ECF6",
            "gridcolor": "white",
            "gridwidth": 2,
            "linecolor": "white",
            "showbackground": true,
            "ticks": "",
            "zerolinecolor": "white"
           },
           "zaxis": {
            "backgroundcolor": "#E5ECF6",
            "gridcolor": "white",
            "gridwidth": 2,
            "linecolor": "white",
            "showbackground": true,
            "ticks": "",
            "zerolinecolor": "white"
           }
          },
          "shapedefaults": {
           "line": {
            "color": "#2a3f5f"
           }
          },
          "ternary": {
           "aaxis": {
            "gridcolor": "white",
            "linecolor": "white",
            "ticks": ""
           },
           "baxis": {
            "gridcolor": "white",
            "linecolor": "white",
            "ticks": ""
           },
           "bgcolor": "#E5ECF6",
           "caxis": {
            "gridcolor": "white",
            "linecolor": "white",
            "ticks": ""
           }
          },
          "title": {
           "x": 0.05
          },
          "xaxis": {
           "automargin": true,
           "gridcolor": "white",
           "linecolor": "white",
           "ticks": "",
           "title": {
            "standoff": 15
           },
           "zerolinecolor": "white",
           "zerolinewidth": 2
          },
          "yaxis": {
           "automargin": true,
           "gridcolor": "white",
           "linecolor": "white",
           "ticks": "",
           "title": {
            "standoff": 15
           },
           "zerolinecolor": "white",
           "zerolinewidth": 2
          }
         }
        },
        "title": {
         "text": "Evaluation Metrics"
        },
        "width": 800,
        "xaxis": {
         "anchor": "y",
         "autorange": true,
         "domain": [
          0.55,
          1
         ],
         "range": [
          -0.5,
          1.5
         ],
         "type": "category"
        },
        "yaxis": {
         "anchor": "x",
         "autorange": true,
         "domain": [
          0,
          1
         ],
         "range": [
          0,
          1133.6842105263158
         ],
         "type": "linear"
        }
       }
      },
      "image/png": "[encoded data removed]"
     },
     "metadata": {},
     "output_type": "display_data"
    },
    {
     "name": "stdout",
     "output_type": "stream",
     "text": [
      "WRONG PREDICTIONS\n",
      "\n",
      "     true_labels predicted_labels\n",
      "0      [0, 0, 1]        [1, 0, 0]\n",
      "9      [0, 0, 1]        [1, 0, 0]\n",
      "11     [0, 0, 1]        [1, 0, 0]\n",
      "15     [0, 0, 1]        [1, 0, 0]\n",
      "16     [0, 0, 1]        [1, 0, 0]\n",
      "...          ...              ...\n",
      "1180   [0, 1, 0]        [1, 0, 0]\n",
      "1182   [0, 1, 0]        [1, 0, 0]\n",
      "1183   [0, 1, 0]        [1, 0, 0]\n",
      "1184   [0, 1, 0]        [1, 0, 0]\n",
      "1185   [0, 1, 0]        [1, 0, 0]\n",
      "\n",
      "[110 rows x 2 columns]\n",
      "\n",
      "RED LIGHTS CLASSIFIED AS GREEN\n",
      "\n",
      "Empty DataFrame\n",
      "Columns: [true_labels, predicted_labels]\n",
      "Index: []\n"
     ]
    }
   ],
   "source": [
    "img_size = 32\n",
    "crop_left = 12\n",
    "crop_top = 2\n",
    "w1 = 2\n",
    "w2 = 1\n",
    "\n",
    "df_train_predictions = Classifier(img_size, crop_left, crop_top, w1, w2).run(df_train)\n",
    "metrics = Evaluator().run(df_train_true_labels[\"label\"], df_train_predictions[\"y_bar\"])\n",
    "\n",
    "print_metrics(metrics)"
   ]
  },
  {
   "cell_type": "markdown",
   "id": "dd43db1a-1efe-41bc-b040-9e8f7e413786",
   "metadata": {},
   "source": [
    "# Classifier Testing"
   ]
  },
  {
   "cell_type": "code",
   "execution_count": 5,
   "id": "1b8d9c02-3a15-450f-b2cf-edb74500ab50",
   "metadata": {},
   "outputs": [
    {
     "data": {
      "application/vnd.plotly.v1+json": {
       "config": {
        "plotlyServerURL": "https://plot.ly"
       },
       "data": [
        {
         "cells": {
          "font": {
           "size": 16
          },
          "height": 24,
          "values": [
           [
            "Accuracy",
            "Reds Predicted Green"
           ],
           [
            "0.909",
            0
           ]
          ]
         },
         "columnwidth": [
          200,
          100
         ],
         "domain": {
          "x": [
           0,
           0.45
          ],
          "y": [
           0,
           1
          ]
         },
         "header": {
          "font": {
           "size": 16
          },
          "values": [
           "Metric",
           "Value"
          ]
         },
         "type": "table"
        },
        {
         "marker": {
          "color": "blue"
         },
         "type": "bar",
         "x": [
          "Predicted Right",
          "Predicted Wrong"
         ],
         "xaxis": "x",
         "y": [
          270,
          27
         ],
         "yaxis": "y"
        }
       ],
       "layout": {
        "height": 400,
        "template": {
         "data": {
          "bar": [
           {
            "error_x": {
             "color": "#2a3f5f"
            },
            "error_y": {
             "color": "#2a3f5f"
            },
            "marker": {
             "line": {
              "color": "#E5ECF6",
              "width": 0.5
             },
             "pattern": {
              "fillmode": "overlay",
              "size": 10,
              "solidity": 0.2
             }
            },
            "type": "bar"
           }
          ],
          "barpolar": [
           {
            "marker": {
             "line": {
              "color": "#E5ECF6",
              "width": 0.5
             },
             "pattern": {
              "fillmode": "overlay",
              "size": 10,
              "solidity": 0.2
             }
            },
            "type": "barpolar"
           }
          ],
          "carpet": [
           {
            "aaxis": {
             "endlinecolor": "#2a3f5f",
             "gridcolor": "white",
             "linecolor": "white",
             "minorgridcolor": "white",
             "startlinecolor": "#2a3f5f"
            },
            "baxis": {
             "endlinecolor": "#2a3f5f",
             "gridcolor": "white",
             "linecolor": "white",
             "minorgridcolor": "white",
             "startlinecolor": "#2a3f5f"
            },
            "type": "carpet"
           }
          ],
          "choropleth": [
           {
            "colorbar": {
             "outlinewidth": 0,
             "ticks": ""
            },
            "type": "choropleth"
           }
          ],
          "contour": [
           {
            "colorbar": {
             "outlinewidth": 0,
             "ticks": ""
            },
            "colorscale": [
             [
              0,
              "#0d0887"
             ],
             [
              0.1111111111111111,
              "#46039f"
             ],
             [
              0.2222222222222222,
              "#7201a8"
             ],
             [
              0.3333333333333333,
              "#9c179e"
             ],
             [
              0.4444444444444444,
              "#bd3786"
             ],
             [
              0.5555555555555556,
              "#d8576b"
             ],
             [
              0.6666666666666666,
              "#ed7953"
             ],
             [
              0.7777777777777778,
              "#fb9f3a"
             ],
             [
              0.8888888888888888,
              "#fdca26"
             ],
             [
              1,
              "#f0f921"
             ]
            ],
            "type": "contour"
           }
          ],
          "contourcarpet": [
           {
            "colorbar": {
             "outlinewidth": 0,
             "ticks": ""
            },
            "type": "contourcarpet"
           }
          ],
          "heatmap": [
           {
            "colorbar": {
             "outlinewidth": 0,
             "ticks": ""
            },
            "colorscale": [
             [
              0,
              "#0d0887"
             ],
             [
              0.1111111111111111,
              "#46039f"
             ],
             [
              0.2222222222222222,
              "#7201a8"
             ],
             [
              0.3333333333333333,
              "#9c179e"
             ],
             [
              0.4444444444444444,
              "#bd3786"
             ],
             [
              0.5555555555555556,
              "#d8576b"
             ],
             [
              0.6666666666666666,
              "#ed7953"
             ],
             [
              0.7777777777777778,
              "#fb9f3a"
             ],
             [
              0.8888888888888888,
              "#fdca26"
             ],
             [
              1,
              "#f0f921"
             ]
            ],
            "type": "heatmap"
           }
          ],
          "heatmapgl": [
           {
            "colorbar": {
             "outlinewidth": 0,
             "ticks": ""
            },
            "colorscale": [
             [
              0,
              "#0d0887"
             ],
             [
              0.1111111111111111,
              "#46039f"
             ],
             [
              0.2222222222222222,
              "#7201a8"
             ],
             [
              0.3333333333333333,
              "#9c179e"
             ],
             [
              0.4444444444444444,
              "#bd3786"
             ],
             [
              0.5555555555555556,
              "#d8576b"
             ],
             [
              0.6666666666666666,
              "#ed7953"
             ],
             [
              0.7777777777777778,
              "#fb9f3a"
             ],
             [
              0.8888888888888888,
              "#fdca26"
             ],
             [
              1,
              "#f0f921"
             ]
            ],
            "type": "heatmapgl"
           }
          ],
          "histogram": [
           {
            "marker": {
             "pattern": {
              "fillmode": "overlay",
              "size": 10,
              "solidity": 0.2
             }
            },
            "type": "histogram"
           }
          ],
          "histogram2d": [
           {
            "colorbar": {
             "outlinewidth": 0,
             "ticks": ""
            },
            "colorscale": [
             [
              0,
              "#0d0887"
             ],
             [
              0.1111111111111111,
              "#46039f"
             ],
             [
              0.2222222222222222,
              "#7201a8"
             ],
             [
              0.3333333333333333,
              "#9c179e"
             ],
             [
              0.4444444444444444,
              "#bd3786"
             ],
             [
              0.5555555555555556,
              "#d8576b"
             ],
             [
              0.6666666666666666,
              "#ed7953"
             ],
             [
              0.7777777777777778,
              "#fb9f3a"
             ],
             [
              0.8888888888888888,
              "#fdca26"
             ],
             [
              1,
              "#f0f921"
             ]
            ],
            "type": "histogram2d"
           }
          ],
          "histogram2dcontour": [
           {
            "colorbar": {
             "outlinewidth": 0,
             "ticks": ""
            },
            "colorscale": [
             [
              0,
              "#0d0887"
             ],
             [
              0.1111111111111111,
              "#46039f"
             ],
             [
              0.2222222222222222,
              "#7201a8"
             ],
             [
              0.3333333333333333,
              "#9c179e"
             ],
             [
              0.4444444444444444,
              "#bd3786"
             ],
             [
              0.5555555555555556,
              "#d8576b"
             ],
             [
              0.6666666666666666,
              "#ed7953"
             ],
             [
              0.7777777777777778,
              "#fb9f3a"
             ],
             [
              0.8888888888888888,
              "#fdca26"
             ],
             [
              1,
              "#f0f921"
             ]
            ],
            "type": "histogram2dcontour"
           }
          ],
          "mesh3d": [
           {
            "colorbar": {
             "outlinewidth": 0,
             "ticks": ""
            },
            "type": "mesh3d"
           }
          ],
          "parcoords": [
           {
            "line": {
             "colorbar": {
              "outlinewidth": 0,
              "ticks": ""
             }
            },
            "type": "parcoords"
           }
          ],
          "pie": [
           {
            "automargin": true,
            "type": "pie"
           }
          ],
          "scatter": [
           {
            "marker": {
             "colorbar": {
              "outlinewidth": 0,
              "ticks": ""
             }
            },
            "type": "scatter"
           }
          ],
          "scatter3d": [
           {
            "line": {
             "colorbar": {
              "outlinewidth": 0,
              "ticks": ""
             }
            },
            "marker": {
             "colorbar": {
              "outlinewidth": 0,
              "ticks": ""
             }
            },
            "type": "scatter3d"
           }
          ],
          "scattercarpet": [
           {
            "marker": {
             "colorbar": {
              "outlinewidth": 0,
              "ticks": ""
             }
            },
            "type": "scattercarpet"
           }
          ],
          "scattergeo": [
           {
            "marker": {
             "colorbar": {
              "outlinewidth": 0,
              "ticks": ""
             }
            },
            "type": "scattergeo"
           }
          ],
          "scattergl": [
           {
            "marker": {
             "colorbar": {
              "outlinewidth": 0,
              "ticks": ""
             }
            },
            "type": "scattergl"
           }
          ],
          "scattermapbox": [
           {
            "marker": {
             "colorbar": {
              "outlinewidth": 0,
              "ticks": ""
             }
            },
            "type": "scattermapbox"
           }
          ],
          "scatterpolar": [
           {
            "marker": {
             "colorbar": {
              "outlinewidth": 0,
              "ticks": ""
             }
            },
            "type": "scatterpolar"
           }
          ],
          "scatterpolargl": [
           {
            "marker": {
             "colorbar": {
              "outlinewidth": 0,
              "ticks": ""
             }
            },
            "type": "scatterpolargl"
           }
          ],
          "scatterternary": [
           {
            "marker": {
             "colorbar": {
              "outlinewidth": 0,
              "ticks": ""
             }
            },
            "type": "scatterternary"
           }
          ],
          "surface": [
           {
            "colorbar": {
             "outlinewidth": 0,
             "ticks": ""
            },
            "colorscale": [
             [
              0,
              "#0d0887"
             ],
             [
              0.1111111111111111,
              "#46039f"
             ],
             [
              0.2222222222222222,
              "#7201a8"
             ],
             [
              0.3333333333333333,
              "#9c179e"
             ],
             [
              0.4444444444444444,
              "#bd3786"
             ],
             [
              0.5555555555555556,
              "#d8576b"
             ],
             [
              0.6666666666666666,
              "#ed7953"
             ],
             [
              0.7777777777777778,
              "#fb9f3a"
             ],
             [
              0.8888888888888888,
              "#fdca26"
             ],
             [
              1,
              "#f0f921"
             ]
            ],
            "type": "surface"
           }
          ],
          "table": [
           {
            "cells": {
             "fill": {
              "color": "#EBF0F8"
             },
             "line": {
              "color": "white"
             }
            },
            "header": {
             "fill": {
              "color": "#C8D4E3"
             },
             "line": {
              "color": "white"
             }
            },
            "type": "table"
           }
          ]
         },
         "layout": {
          "annotationdefaults": {
           "arrowcolor": "#2a3f5f",
           "arrowhead": 0,
           "arrowwidth": 1
          },
          "autotypenumbers": "strict",
          "coloraxis": {
           "colorbar": {
            "outlinewidth": 0,
            "ticks": ""
           }
          },
          "colorscale": {
           "diverging": [
            [
             0,
             "#8e0152"
            ],
            [
             0.1,
             "#c51b7d"
            ],
            [
             0.2,
             "#de77ae"
            ],
            [
             0.3,
             "#f1b6da"
            ],
            [
             0.4,
             "#fde0ef"
            ],
            [
             0.5,
             "#f7f7f7"
            ],
            [
             0.6,
             "#e6f5d0"
            ],
            [
             0.7,
             "#b8e186"
            ],
            [
             0.8,
             "#7fbc41"
            ],
            [
             0.9,
             "#4d9221"
            ],
            [
             1,
             "#276419"
            ]
           ],
           "sequential": [
            [
             0,
             "#0d0887"
            ],
            [
             0.1111111111111111,
             "#46039f"
            ],
            [
             0.2222222222222222,
             "#7201a8"
            ],
            [
             0.3333333333333333,
             "#9c179e"
            ],
            [
             0.4444444444444444,
             "#bd3786"
            ],
            [
             0.5555555555555556,
             "#d8576b"
            ],
            [
             0.6666666666666666,
             "#ed7953"
            ],
            [
             0.7777777777777778,
             "#fb9f3a"
            ],
            [
             0.8888888888888888,
             "#fdca26"
            ],
            [
             1,
             "#f0f921"
            ]
           ],
           "sequentialminus": [
            [
             0,
             "#0d0887"
            ],
            [
             0.1111111111111111,
             "#46039f"
            ],
            [
             0.2222222222222222,
             "#7201a8"
            ],
            [
             0.3333333333333333,
             "#9c179e"
            ],
            [
             0.4444444444444444,
             "#bd3786"
            ],
            [
             0.5555555555555556,
             "#d8576b"
            ],
            [
             0.6666666666666666,
             "#ed7953"
            ],
            [
             0.7777777777777778,
             "#fb9f3a"
            ],
            [
             0.8888888888888888,
             "#fdca26"
            ],
            [
             1,
             "#f0f921"
            ]
           ]
          },
          "colorway": [
           "#636efa",
           "#EF553B",
           "#00cc96",
           "#ab63fa",
           "#FFA15A",
           "#19d3f3",
           "#FF6692",
           "#B6E880",
           "#FF97FF",
           "#FECB52"
          ],
          "font": {
           "color": "#2a3f5f"
          },
          "geo": {
           "bgcolor": "white",
           "lakecolor": "white",
           "landcolor": "#E5ECF6",
           "showlakes": true,
           "showland": true,
           "subunitcolor": "white"
          },
          "hoverlabel": {
           "align": "left"
          },
          "hovermode": "closest",
          "mapbox": {
           "style": "light"
          },
          "paper_bgcolor": "white",
          "plot_bgcolor": "#E5ECF6",
          "polar": {
           "angularaxis": {
            "gridcolor": "white",
            "linecolor": "white",
            "ticks": ""
           },
           "bgcolor": "#E5ECF6",
           "radialaxis": {
            "gridcolor": "white",
            "linecolor": "white",
            "ticks": ""
           }
          },
          "scene": {
           "xaxis": {
            "backgroundcolor": "#E5ECF6",
            "gridcolor": "white",
            "gridwidth": 2,
            "linecolor": "white",
            "showbackground": true,
            "ticks": "",
            "zerolinecolor": "white"
           },
           "yaxis": {
            "backgroundcolor": "#E5ECF6",
            "gridcolor": "white",
            "gridwidth": 2,
            "linecolor": "white",
            "showbackground": true,
            "ticks": "",
            "zerolinecolor": "white"
           },
           "zaxis": {
            "backgroundcolor": "#E5ECF6",
            "gridcolor": "white",
            "gridwidth": 2,
            "linecolor": "white",
            "showbackground": true,
            "ticks": "",
            "zerolinecolor": "white"
           }
          },
          "shapedefaults": {
           "line": {
            "color": "#2a3f5f"
           }
          },
          "ternary": {
           "aaxis": {
            "gridcolor": "white",
            "linecolor": "white",
            "ticks": ""
           },
           "baxis": {
            "gridcolor": "white",
            "linecolor": "white",
            "ticks": ""
           },
           "bgcolor": "#E5ECF6",
           "caxis": {
            "gridcolor": "white",
            "linecolor": "white",
            "ticks": ""
           }
          },
          "title": {
           "x": 0.05
          },
          "xaxis": {
           "automargin": true,
           "gridcolor": "white",
           "linecolor": "white",
           "ticks": "",
           "title": {
            "standoff": 15
           },
           "zerolinecolor": "white",
           "zerolinewidth": 2
          },
          "yaxis": {
           "automargin": true,
           "gridcolor": "white",
           "linecolor": "white",
           "ticks": "",
           "title": {
            "standoff": 15
           },
           "zerolinecolor": "white",
           "zerolinewidth": 2
          }
         }
        },
        "title": {
         "text": "Evaluation Metrics"
        },
        "width": 800,
        "xaxis": {
         "anchor": "y",
         "autorange": true,
         "domain": [
          0.55,
          1
         ],
         "range": [
          -0.5,
          1.5
         ],
         "type": "category"
        },
        "yaxis": {
         "anchor": "x",
         "autorange": true,
         "domain": [
          0,
          1
         ],
         "range": [
          0,
          284.2105263157895
         ],
         "type": "linear"
        }
       }
      },
      "image/png": "[encoded data removed]"
     },
     "metadata": {},
     "output_type": "display_data"
    },
    {
     "name": "stdout",
     "output_type": "stream",
     "text": [
      "WRONG PREDICTIONS\n",
      "\n",
      "    true_labels predicted_labels\n",
      "0     [0, 0, 1]        [1, 0, 0]\n",
      "13    [0, 0, 1]        [1, 0, 0]\n",
      "20    [0, 0, 1]        [1, 0, 0]\n",
      "21    [0, 0, 1]        [1, 0, 0]\n",
      "37    [0, 0, 1]        [1, 0, 0]\n",
      "38    [0, 0, 1]        [1, 0, 0]\n",
      "40    [0, 0, 1]        [1, 0, 0]\n",
      "41    [0, 0, 1]        [1, 0, 0]\n",
      "42    [0, 0, 1]        [1, 0, 0]\n",
      "48    [0, 0, 1]        [1, 0, 0]\n",
      "50    [0, 0, 1]        [1, 0, 0]\n",
      "56    [0, 0, 1]        [1, 0, 0]\n",
      "59    [0, 0, 1]        [1, 0, 0]\n",
      "60    [0, 0, 1]        [1, 0, 0]\n",
      "65    [0, 0, 1]        [1, 0, 0]\n",
      "66    [0, 0, 1]        [1, 0, 0]\n",
      "68    [0, 0, 1]        [1, 0, 0]\n",
      "75    [0, 0, 1]        [1, 0, 0]\n",
      "79    [0, 0, 1]        [1, 0, 0]\n",
      "86    [0, 0, 1]        [1, 0, 0]\n",
      "96    [0, 0, 1]        [1, 0, 0]\n",
      "98    [0, 0, 1]        [1, 0, 0]\n",
      "99    [0, 0, 1]        [1, 0, 0]\n",
      "106   [0, 0, 1]        [1, 0, 0]\n",
      "288   [0, 1, 0]        [1, 0, 0]\n",
      "290   [0, 1, 0]        [1, 0, 0]\n",
      "292   [0, 1, 0]        [1, 0, 0]\n",
      "\n",
      "RED LIGHTS CLASSIFIED AS GREEN\n",
      "\n",
      "Empty DataFrame\n",
      "Columns: [true_labels, predicted_labels]\n",
      "Index: []\n"
     ]
    }
   ],
   "source": [
    "df_test_predictions = Classifier(img_size, crop_left, crop_top, w1, w2).run(df_test)\n",
    "\n",
    "metrics = Evaluator().run(df_test_true_labels[\"label\"], df_test_predictions[\"y_bar\"])\n",
    "\n",
    "print_metrics(metrics)"
   ]
  }
 ],
 "metadata": {
  "kernelspec": {
   "display_name": "Python 3 (ipykernel)",
   "language": "python",
   "name": "python3"
  },
  "language_info": {
   "codemirror_mode": {
    "name": "ipython",
    "version": 3
   },
   "file_extension": ".py",
   "mimetype": "text/x-python",
   "name": "python",
   "nbconvert_exporter": "python",
   "pygments_lexer": "ipython3",
   "version": "3.7.11"
  }
 },
 "nbformat": 4,
 "nbformat_minor": 5
}
