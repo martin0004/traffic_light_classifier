{
 "cells": [
  {
   "cell_type": "markdown",
   "id": "57f88590-b7a0-40df-8dc3-c4d8755a0e0d",
   "metadata": {},
   "source": [
    "# Classifier Training"
   ]
  },
  {
   "cell_type": "code",
   "execution_count": 1,
   "id": "a88b2560-fd5a-4576-a35f-b4bf0e2b843f",
   "metadata": {},
   "outputs": [],
   "source": [
    "# Import all dependencies\n",
    "\n",
    "import sys  \n",
    "sys.path.insert(0, \"../src\")\n",
    "\n",
    "from classify import *         # Module containing classifier\n",
    "\n",
    "# Print parameters\n",
    "pd.set_option('expand_frame_repr', False)\n",
    "#pd.set_option('display.max_rows', None)\n",
    "\n",
    "import plotly.io as pio\n",
    "pio.renderers.default = \"svg\""
   ]
  },
  {
   "cell_type": "code",
   "execution_count": 2,
   "id": "bd6bded3-8d38-4e39-98d7-da7c28defed1",
   "metadata": {},
   "outputs": [],
   "source": [
    "# Global variables (for this notebook)\n",
    "\n",
    "DIR_TRAIN = \"../images/traffic_light_images/training\"\n",
    "DIR_TEST  = \"../images/traffic_light_images/test\"\n",
    "\n",
    "# Training and testing datasets\n",
    "\n",
    "df_train, df_train_true_labels = DataLoader(CLASSES).load_dataset(DIR_TRAIN)\n",
    "df_test, df_test_true_labels = DataLoader(CLASSES).load_dataset(DIR_TEST)"
   ]
  },
  {
   "cell_type": "code",
   "execution_count": 3,
   "id": "6b2fd090-27cb-481d-9f17-41146c5b1f60",
   "metadata": {},
   "outputs": [
    {
     "name": "stdout",
     "output_type": "stream",
     "text": [
      "|    |   img_size |   crop_left |   crop_top |   w1 |   w2 |   accuracy |   reds_predicted_green |\n",
      "|---:|-----------:|------------:|-----------:|-----:|-----:|-----------:|-----------------------:|\n",
      "|  0 |         32 |          10 |          1 |    1 |    1 |      0.864 |                      0 |\n",
      "|  1 |         32 |          10 |          1 |    1 |    0 |      0.955 |                      1 |\n",
      "|  2 |         32 |          10 |          1 |    0 |    1 |      0.848 |                      0 |\n",
      "|  3 |         32 |          10 |          1 |    1 |    1 |      0.864 |                      0 |\n",
      "|  4 |         32 |          10 |          1 |    2 |    1 |      0.877 |                      0 |\n",
      "|  5 |         32 |          10 |          1 |    1 |    2 |      0.858 |                      0 |\n",
      "|  6 |         32 |          12 |          2 |    1 |    0 |      0.984 |                      5 |\n",
      "|  7 |         32 |          12 |          2 |    0 |    1 |      0.865 |                      0 |\n",
      "|  8 |         32 |          12 |          2 |    1 |    1 |      0.884 |                      0 |\n",
      "|  9 |         32 |          12 |          2 |    2 |    1 |      0.907 |                      0 |\n",
      "| 10 |         32 |          12 |          2 |    1 |    2 |      0.88  |                      0 |\n"
     ]
    }
   ],
   "source": [
    "# Training Loops\n",
    "\n",
    "# Define parameters for each run\n",
    "\n",
    "# df_runs\n",
    "#\n",
    "# Dataframe which holds the parameters for every training run\n",
    "# & stores the evaluation metrics at the end of every run.\n",
    "#\n",
    "# df_runs.loc[i] = input parameters & evaluation metrics for training run i\n",
    "#                  (indexes start at 0)\n",
    "\n",
    "df_runs = pd.DataFrame(columns=[\"img_size\", \"crop_left\", \"crop_top\", \"w1\", \"w2\"])\n",
    "\n",
    "# Run \"0\" is our benchmark\n",
    "df_runs = df_runs.append({\"img_size\": 32, \"crop_left\": 10, \"crop_top\": 1, \"w1\": 1, \"w2\": 1, \"accuracy\": \"-\", \"reds_predicted_green\": \"-\"}, ignore_index=True)\n",
    "\n",
    "# Runs similar to benchmark, with different weights\n",
    "df_runs = df_runs.append({\"img_size\": 32, \"crop_left\": 10, \"crop_top\": 1, \"w1\": 1, \"w2\": 0, \"accuracy\": \"-\", \"reds_predicted_green\": \"-\"}, ignore_index=True)\n",
    "df_runs = df_runs.append({\"img_size\": 32, \"crop_left\": 10, \"crop_top\": 1, \"w1\": 0, \"w2\": 1, \"accuracy\": \"-\", \"reds_predicted_green\": \"-\"}, ignore_index=True)\n",
    "df_runs = df_runs.append({\"img_size\": 32, \"crop_left\": 10, \"crop_top\": 1, \"w1\": 1, \"w2\": 1, \"accuracy\": \"-\", \"reds_predicted_green\": \"-\"}, ignore_index=True)\n",
    "df_runs = df_runs.append({\"img_size\": 32, \"crop_left\": 10, \"crop_top\": 1, \"w1\": 2, \"w2\": 1, \"accuracy\": \"-\", \"reds_predicted_green\": \"-\"}, ignore_index=True)\n",
    "df_runs = df_runs.append({\"img_size\": 32, \"crop_left\": 10, \"crop_top\": 1, \"w1\": 1, \"w2\": 2, \"accuracy\": \"-\", \"reds_predicted_green\": \"-\"}, ignore_index=True)\n",
    "\n",
    "# Greater cropped area\n",
    "df_runs = df_runs.append({\"img_size\": 32, \"crop_left\": 12, \"crop_top\": 2, \"w1\": 1, \"w2\": 0, \"accuracy\": \"-\", \"reds_predicted_green\": \"-\"}, ignore_index=True)\n",
    "df_runs = df_runs.append({\"img_size\": 32, \"crop_left\": 12, \"crop_top\": 2, \"w1\": 0, \"w2\": 1, \"accuracy\": \"-\", \"reds_predicted_green\": \"-\"}, ignore_index=True)\n",
    "df_runs = df_runs.append({\"img_size\": 32, \"crop_left\": 12, \"crop_top\": 2, \"w1\": 1, \"w2\": 1, \"accuracy\": \"-\", \"reds_predicted_green\": \"-\"}, ignore_index=True)\n",
    "df_runs = df_runs.append({\"img_size\": 32, \"crop_left\": 12, \"crop_top\": 2, \"w1\": 2, \"w2\": 1, \"accuracy\": \"-\", \"reds_predicted_green\": \"-\"}, ignore_index=True)\n",
    "df_runs = df_runs.append({\"img_size\": 32, \"crop_left\": 12, \"crop_top\": 2, \"w1\": 1, \"w2\": 2, \"accuracy\": \"-\", \"reds_predicted_green\": \"-\"}, ignore_index=True)\n",
    "\n",
    "# Run training loops\n",
    "\n",
    "n_runs = len(df_runs)\n",
    "\n",
    "for i in range(n_runs):\n",
    "\n",
    "    # Parameters for this run    \n",
    "    \n",
    "    s_params = df_runs.loc[i]\n",
    "    \n",
    "    img_size = s_params[\"img_size\"]\n",
    "    crop_left = s_params[\"crop_left\"]\n",
    "    crop_top = s_params[\"crop_top\"]\n",
    "    w1 = s_params[\"w1\"]\n",
    "    w2 = s_params[\"w2\"]\n",
    "    \n",
    "    # Make predictions on training dataset\n",
    "    \n",
    "    df_train_predictions = Classifier(img_size, crop_left, crop_top, w1, w2).run(df_train)\n",
    "    \n",
    "    # Derive evaluation metrics\n",
    "\n",
    "    metrics = Evaluator().run(df_train_true_labels[\"label\"], df_train_predictions[\"y_bar\"])\n",
    "    \n",
    "    df_runs[\"accuracy\"][i] = np.round(metrics[\"accuracy\"],3)\n",
    "    df_runs[\"reds_predicted_green\"][i] = len(metrics[\"reds_predicted_green\"])\n",
    "    \n",
    "print(df_runs.to_markdown())    \n"
   ]
  },
  {
   "cell_type": "markdown",
   "id": "7acc9f2c-6eae-453c-a1e0-67b4bc90a5fa",
   "metadata": {},
   "source": [
    "# Selected parameters"
   ]
  },
  {
   "cell_type": "code",
   "execution_count": 4,
   "id": "2cd751f5-6e34-42c2-904c-e771a4284b49",
   "metadata": {},
   "outputs": [
    {
     "data": {
      "image/svg+xml": [
       "<svg class=\"main-svg\" xmlns=\"http://www.w3.org/2000/svg\" xmlns:xlink=\"http://www.w3.org/1999/xlink\" width=\"800\" height=\"400\" style=\"\" viewBox=\"0 0 800 400\"><rect x=\"0\" y=\"0\" width=\"800\" height=\"400\" style=\"fill: rgb(255, 255, 255); fill-opacity: 1;\"/><defs id=\"defs-810e6e\"><g class=\"clips\"><clipPath id=\"clip810e6exyplot\" class=\"plotclip\"><rect width=\"288\" height=\"220\"/></clipPath><clipPath class=\"axesclip\" id=\"clip810e6ex\"><rect x=\"432\" y=\"0\" width=\"288\" height=\"400\"/></clipPath><clipPath class=\"axesclip\" id=\"clip810e6ey\"><rect x=\"0\" y=\"100\" width=\"800\" height=\"220\"/></clipPath><clipPath class=\"axesclip\" id=\"clip810e6exy\"><rect x=\"432\" y=\"100\" width=\"288\" height=\"220\"/></clipPath></g><g class=\"gradients\"/><g class=\"patterns\"/></defs><g class=\"bglayer\"><rect class=\"bg\" x=\"432\" y=\"100\" width=\"288\" height=\"220\" style=\"fill: rgb(229, 236, 246); fill-opacity: 1; stroke-width: 0;\"/></g><g class=\"layer-below\"><g class=\"imagelayer\"/><g class=\"shapelayer\"/></g><g class=\"cartesianlayer\"><g class=\"subplot xy\"><g class=\"layer-subplot\"><g class=\"shapelayer\"/><g class=\"imagelayer\"/></g><g class=\"gridlayer\"><g class=\"x\"/><g class=\"y\"><path class=\"ygrid crisp\" transform=\"translate(0,281.19)\" d=\"M432,0h288\" style=\"stroke: rgb(255, 255, 255); stroke-opacity: 1; stroke-width: 1px;\"/><path class=\"ygrid crisp\" transform=\"translate(0,242.38)\" d=\"M432,0h288\" style=\"stroke: rgb(255, 255, 255); stroke-opacity: 1; stroke-width: 1px;\"/><path class=\"ygrid crisp\" transform=\"translate(0,203.57)\" d=\"M432,0h288\" style=\"stroke: rgb(255, 255, 255); stroke-opacity: 1; stroke-width: 1px;\"/><path class=\"ygrid crisp\" transform=\"translate(0,164.75)\" d=\"M432,0h288\" style=\"stroke: rgb(255, 255, 255); stroke-opacity: 1; stroke-width: 1px;\"/><path class=\"ygrid crisp\" transform=\"translate(0,125.94)\" d=\"M432,0h288\" style=\"stroke: rgb(255, 255, 255); stroke-opacity: 1; stroke-width: 1px;\"/></g></g><g class=\"zerolinelayer\"><path class=\"yzl zl crisp\" transform=\"translate(0,320)\" d=\"M432,0h288\" style=\"stroke: rgb(255, 255, 255); stroke-opacity: 1; stroke-width: 2px;\"/></g><path class=\"xlines-below\"/><path class=\"ylines-below\"/><g class=\"overlines-below\"/><g class=\"xaxislayer-below\"/><g class=\"yaxislayer-below\"/><g class=\"overaxes-below\"/><g class=\"plot\" transform=\"translate(432,100)\" clip-path=\"url(#clip810e6exyplot)\"><g class=\"barlayer mlayer\"><g class=\"trace bars\" style=\"opacity: 1;\"><g class=\"points\"><g class=\"point\"><path d=\"M14.4,220V11H129.6V220Z\" style=\"vector-effect: non-scaling-stroke; opacity: 1; stroke-width: 0.5px; fill: rgb(0, 0, 255); fill-opacity: 1; stroke: rgb(229, 236, 246); stroke-opacity: 1;\"/></g><g class=\"point\"><path d=\"M158.4,220V198.65H273.6V220Z\" style=\"vector-effect: non-scaling-stroke; opacity: 1; stroke-width: 0.5px; fill: rgb(0, 0, 255); fill-opacity: 1; stroke: rgb(229, 236, 246); stroke-opacity: 1;\"/></g></g></g></g></g><g class=\"overplot\"/><path class=\"xlines-above crisp\" d=\"M0,0\" style=\"fill: none;\"/><path class=\"ylines-above crisp\" d=\"M0,0\" style=\"fill: none;\"/><g class=\"overlines-above\"/><g class=\"xaxislayer-above\"><g class=\"xtick\"><text text-anchor=\"middle\" x=\"0\" y=\"333\" transform=\"translate(504,0)\" style=\"font-family: 'Open Sans', verdana, arial, sans-serif; font-size: 12px; fill: rgb(42, 63, 95); fill-opacity: 1; white-space: pre; opacity: 1;\">Predicted Right</text></g><g class=\"xtick\"><text text-anchor=\"middle\" x=\"0\" y=\"333\" transform=\"translate(648,0)\" style=\"font-family: 'Open Sans', verdana, arial, sans-serif; font-size: 12px; fill: rgb(42, 63, 95); fill-opacity: 1; white-space: pre; opacity: 1;\">Predicted Wrong</text></g></g><g class=\"yaxislayer-above\"><g class=\"ytick\"><text text-anchor=\"end\" x=\"431\" y=\"4.199999999999999\" transform=\"translate(0,320)\" style=\"font-family: 'Open Sans', verdana, arial, sans-serif; font-size: 12px; fill: rgb(42, 63, 95); fill-opacity: 1; white-space: pre; opacity: 1;\">0</text></g><g class=\"ytick\"><text text-anchor=\"end\" x=\"431\" y=\"4.199999999999999\" style=\"font-family: 'Open Sans', verdana, arial, sans-serif; font-size: 12px; fill: rgb(42, 63, 95); fill-opacity: 1; white-space: pre; opacity: 1;\" transform=\"translate(0,281.19)\">200</text></g><g class=\"ytick\"><text text-anchor=\"end\" x=\"431\" y=\"4.199999999999999\" style=\"font-family: 'Open Sans', verdana, arial, sans-serif; font-size: 12px; fill: rgb(42, 63, 95); fill-opacity: 1; white-space: pre; opacity: 1;\" transform=\"translate(0,242.38)\">400</text></g><g class=\"ytick\"><text text-anchor=\"end\" x=\"431\" y=\"4.199999999999999\" style=\"font-family: 'Open Sans', verdana, arial, sans-serif; font-size: 12px; fill: rgb(42, 63, 95); fill-opacity: 1; white-space: pre; opacity: 1;\" transform=\"translate(0,203.57)\">600</text></g><g class=\"ytick\"><text text-anchor=\"end\" x=\"431\" y=\"4.199999999999999\" style=\"font-family: 'Open Sans', verdana, arial, sans-serif; font-size: 12px; fill: rgb(42, 63, 95); fill-opacity: 1; white-space: pre; opacity: 1;\" transform=\"translate(0,164.75)\">800</text></g><g class=\"ytick\"><text text-anchor=\"end\" x=\"431\" y=\"4.199999999999999\" style=\"font-family: 'Open Sans', verdana, arial, sans-serif; font-size: 12px; fill: rgb(42, 63, 95); fill-opacity: 1; white-space: pre; opacity: 1;\" transform=\"translate(0,125.94)\">1000</text></g></g><g class=\"overaxes-above\"/></g></g><g class=\"polarlayer\"/><g class=\"ternarylayer\"/><g class=\"geolayer\"/><g class=\"funnelarealayer\"/><g class=\"pielayer\"/><g class=\"iciclelayer\"/><g class=\"treemaplayer\"/><g class=\"sunburstlayer\"/><g class=\"glimages\"/><g class=\"table\" overflow=\"visible\" width=\"448\" height=\"400\" transform=\"\" style=\"box-sizing: content-box; position: absolute; left: 0px; overflow: visible; shape-rendering: crispedges; pointer-events: all;\"><g class=\"table-control-view\" transform=\"translate(80,100)\" clip-path=\"url(#clip810e6e_scrollAreaBottomClip_e7a28atrue)\" style=\"box-sizing: content-box;\"><rect class=\"scroll-background\" fill=\"none\" width=\"288\" height=\"220\"/><g class=\"y-column\" transform=\"\" clip-path=\"url(#clip810e6e_columnBoundaryClippath_e7a28atrue_0)\"><g class=\"column-block\" id=\"cells1\" transform=\"\" style=\"cursor: default;\"><g class=\"column-cells\"><g class=\"column-cell\" transform=\"translate(0,28)\"><rect class=\"cell-rect\" width=\"192\" stroke-width=\"1\" style=\"stroke: rgb(255, 255, 255); stroke-opacity: 1; fill: rgb(235, 240, 248); fill-opacity: 1;\" height=\"24\"/><g class=\"cell-text-holder\" transform=\"translate(96,8)\" text-anchor=\"middle\" style=\"shape-rendering: geometricprecision;\"><text class=\"cell-text\" dy=\"0.75em\" style=\"cursor: auto; font-family: 'Open Sans', verdana, arial, sans-serif; font-size: 16px; fill: rgb(42, 63, 95); fill-opacity: 1;\">Accuracy</text></g></g><g class=\"column-cell\" transform=\"translate(0,52)\"><rect class=\"cell-rect\" width=\"192\" stroke-width=\"1\" style=\"stroke: rgb(255, 255, 255); stroke-opacity: 1; fill: rgb(235, 240, 248); fill-opacity: 1;\" height=\"55.8125\"/><g class=\"cell-text-holder\" transform=\"translate(36.6484375,24)\" style=\"shape-rendering: geometricprecision;\"><text class=\"cell-text\" dy=\"0\" x=\"0\" y=\"0\" style=\"cursor: auto; font-family: 'Open Sans', verdana, arial, sans-serif; font-size: 16px; fill: rgb(42, 63, 95); fill-opacity: 1; white-space: pre;\"><tspan class=\"line\" dy=\"0em\" x=\"0\" y=\"0\">Reds Predicted</tspan><tspan class=\"line\" dy=\"1.3em\" x=\"0\" y=\"0\">Green</tspan></text></g></g></g></g><g class=\"column-block\" id=\"cells2\" transform=\"\" style=\"cursor: default;\"><g class=\"column-cells\"/></g><g class=\"column-block\" id=\"header\" style=\"cursor: ew-resize;\"><g class=\"column-cells\"><g class=\"column-cell\" transform=\"\"><rect class=\"cell-rect\" width=\"192\" stroke-width=\"1\" height=\"28\" style=\"stroke: rgb(255, 255, 255); stroke-opacity: 1; fill: rgb(200, 212, 227); fill-opacity: 1;\"/><g class=\"cell-text-holder\" transform=\"translate(96,8)\" text-anchor=\"middle\" style=\"shape-rendering: geometricprecision;\"><text class=\"cell-text\" dy=\"0.75em\" style=\"cursor: auto; font-family: 'Open Sans', verdana, arial, sans-serif; font-size: 16px; fill: rgb(42, 63, 95); fill-opacity: 1;\">Metric</text></g></g></g></g><g class=\"column-boundary\"/><clipPath class=\"column-boundary-clippath\" id=\"clip810e6e_columnBoundaryClippath_e7a28atrue_0\"><rect class=\"column-boundary-rect\" fill=\"none\" width=\"194\" height=\"227\" x=\"-1\" y=\"-1\"/></clipPath></g><g class=\"y-column\" transform=\"translate(192,0)\" clip-path=\"url(#clip810e6e_columnBoundaryClippath_e7a28atrue_1)\"><g class=\"column-block\" id=\"cells1\" transform=\"\" style=\"cursor: default;\"><g class=\"column-cells\"><g class=\"column-cell\" transform=\"translate(0,28)\"><rect class=\"cell-rect\" width=\"96\" stroke-width=\"1\" style=\"stroke: rgb(255, 255, 255); stroke-opacity: 1; fill: rgb(235, 240, 248); fill-opacity: 1;\" height=\"24\"/><g class=\"cell-text-holder\" transform=\"translate(48,8)\" text-anchor=\"middle\" style=\"shape-rendering: geometricprecision;\"><text class=\"cell-text\" dy=\"0.75em\" style=\"cursor: auto; font-family: 'Open Sans', verdana, arial, sans-serif; font-size: 16px; fill: rgb(42, 63, 95); fill-opacity: 1;\">0.907</text></g></g><g class=\"column-cell\" transform=\"translate(0,52)\"><rect class=\"cell-rect\" width=\"96\" stroke-width=\"1\" style=\"stroke: rgb(255, 255, 255); stroke-opacity: 1; fill: rgb(235, 240, 248); fill-opacity: 1;\" height=\"55.8125\"/><g class=\"cell-text-holder\" transform=\"translate(48,8)\" text-anchor=\"middle\" style=\"shape-rendering: geometricprecision;\"><text class=\"cell-text\" dy=\"0.75em\" style=\"cursor: auto; font-family: 'Open Sans', verdana, arial, sans-serif; font-size: 16px; fill: rgb(42, 63, 95); fill-opacity: 1;\">0</text></g></g></g></g><g class=\"column-block\" id=\"cells2\" transform=\"\" style=\"cursor: default;\"><g class=\"column-cells\"/></g><g class=\"column-block\" id=\"header\" style=\"cursor: ew-resize;\"><g class=\"column-cells\"><g class=\"column-cell\" transform=\"\"><rect class=\"cell-rect\" width=\"96\" stroke-width=\"1\" height=\"28\" style=\"stroke: rgb(255, 255, 255); stroke-opacity: 1; fill: rgb(200, 212, 227); fill-opacity: 1;\"/><g class=\"cell-text-holder\" transform=\"translate(48,8)\" text-anchor=\"middle\" style=\"shape-rendering: geometricprecision;\"><text class=\"cell-text\" dy=\"0.75em\" style=\"cursor: auto; font-family: 'Open Sans', verdana, arial, sans-serif; font-size: 16px; fill: rgb(42, 63, 95); fill-opacity: 1;\">Value</text></g></g></g></g><g class=\"column-boundary\"/><clipPath class=\"column-boundary-clippath\" id=\"clip810e6e_columnBoundaryClippath_e7a28atrue_1\"><rect class=\"column-boundary-rect\" fill=\"none\" width=\"98\" height=\"227\" x=\"-1\" y=\"-1\"/></clipPath></g><g class=\"scrollbar-kit\" transform=\"translate(297,28)\" style=\"shape-rendering: geometricprecision;\"><g class=\"scrollbar\"><g class=\"scrollbar-slider\" transform=\"\"/></g></g><clipPath class=\"scroll-area-clip\" id=\"clip810e6e_scrollAreaBottomClip_e7a28atrue\"><rect class=\"scroll-area-clip-rect\" x=\"-45\" y=\"-5\" fill=\"none\" width=\"378\" height=\"225\"/></clipPath></g></g><defs id=\"topdefs-810e6e\"><g class=\"clips\"/></defs><g class=\"layer-above\"><g class=\"imagelayer\"/><g class=\"shapelayer\"/></g><g class=\"infolayer\"><g class=\"g-gtitle\"><text class=\"gtitle\" x=\"40\" y=\"50\" text-anchor=\"start\" dy=\"0em\" style=\"font-family: 'Open Sans', verdana, arial, sans-serif; font-size: 17px; fill: rgb(42, 63, 95); opacity: 1; font-weight: normal; white-space: pre;\">Evaluation Metrics</text></g><g class=\"g-xtitle\"/><g class=\"g-ytitle\"/></g></svg>"
      ]
     },
     "metadata": {},
     "output_type": "display_data"
    },
    {
     "name": "stdout",
     "output_type": "stream",
     "text": [
      "WRONG PREDICTIONS\n",
      "\n",
      "     true_labels predicted_labels\n",
      "0      [0, 0, 1]        [1, 0, 0]\n",
      "9      [0, 0, 1]        [1, 0, 0]\n",
      "11     [0, 0, 1]        [1, 0, 0]\n",
      "15     [0, 0, 1]        [1, 0, 0]\n",
      "16     [0, 0, 1]        [1, 0, 0]\n",
      "...          ...              ...\n",
      "1180   [0, 1, 0]        [1, 0, 0]\n",
      "1182   [0, 1, 0]        [1, 0, 0]\n",
      "1183   [0, 1, 0]        [1, 0, 0]\n",
      "1184   [0, 1, 0]        [1, 0, 0]\n",
      "1185   [0, 1, 0]        [1, 0, 0]\n",
      "\n",
      "[110 rows x 2 columns]\n",
      "\n",
      "RED LIGHTS CLASSIFIED AS GREEN\n",
      "\n",
      "Empty DataFrame\n",
      "Columns: [true_labels, predicted_labels]\n",
      "Index: []\n"
     ]
    }
   ],
   "source": [
    "img_size = 32\n",
    "crop_left = 12\n",
    "crop_top = 2\n",
    "w1 = 2\n",
    "w2 = 1\n",
    "\n",
    "df_train_predictions = Classifier(img_size, crop_left, crop_top, w1, w2).run(df_train)\n",
    "metrics = Evaluator().run(df_train_true_labels[\"label\"], df_train_predictions[\"y_bar\"])\n",
    "\n",
    "print_metrics(metrics)"
   ]
  },
  {
   "cell_type": "markdown",
   "id": "dd43db1a-1efe-41bc-b040-9e8f7e413786",
   "metadata": {},
   "source": [
    "# Classifier Testing"
   ]
  },
  {
   "cell_type": "code",
   "execution_count": 5,
   "id": "1b8d9c02-3a15-450f-b2cf-edb74500ab50",
   "metadata": {},
   "outputs": [
    {
     "data": {
      "image/svg+xml": [
       "<svg class=\"main-svg\" xmlns=\"http://www.w3.org/2000/svg\" xmlns:xlink=\"http://www.w3.org/1999/xlink\" width=\"800\" height=\"400\" style=\"\" viewBox=\"0 0 800 400\"><rect x=\"0\" y=\"0\" width=\"800\" height=\"400\" style=\"fill: rgb(255, 255, 255); fill-opacity: 1;\"/><defs id=\"defs-4a675a\"><g class=\"clips\"><clipPath id=\"clip4a675axyplot\" class=\"plotclip\"><rect width=\"288\" height=\"220\"/></clipPath><clipPath class=\"axesclip\" id=\"clip4a675ax\"><rect x=\"432\" y=\"0\" width=\"288\" height=\"400\"/></clipPath><clipPath class=\"axesclip\" id=\"clip4a675ay\"><rect x=\"0\" y=\"100\" width=\"800\" height=\"220\"/></clipPath><clipPath class=\"axesclip\" id=\"clip4a675axy\"><rect x=\"432\" y=\"100\" width=\"288\" height=\"220\"/></clipPath></g><g class=\"gradients\"/><g class=\"patterns\"/></defs><g class=\"bglayer\"><rect class=\"bg\" x=\"432\" y=\"100\" width=\"288\" height=\"220\" style=\"fill: rgb(229, 236, 246); fill-opacity: 1; stroke-width: 0;\"/></g><g class=\"layer-below\"><g class=\"imagelayer\"/><g class=\"shapelayer\"/></g><g class=\"cartesianlayer\"><g class=\"subplot xy\"><g class=\"layer-subplot\"><g class=\"shapelayer\"/><g class=\"imagelayer\"/></g><g class=\"gridlayer\"><g class=\"x\"/><g class=\"y\"><path class=\"ygrid crisp\" transform=\"translate(0,281.3)\" d=\"M432,0h288\" style=\"stroke: rgb(255, 255, 255); stroke-opacity: 1; stroke-width: 1px;\"/><path class=\"ygrid crisp\" transform=\"translate(0,242.59)\" d=\"M432,0h288\" style=\"stroke: rgb(255, 255, 255); stroke-opacity: 1; stroke-width: 1px;\"/><path class=\"ygrid crisp\" transform=\"translate(0,203.89)\" d=\"M432,0h288\" style=\"stroke: rgb(255, 255, 255); stroke-opacity: 1; stroke-width: 1px;\"/><path class=\"ygrid crisp\" transform=\"translate(0,165.19)\" d=\"M432,0h288\" style=\"stroke: rgb(255, 255, 255); stroke-opacity: 1; stroke-width: 1px;\"/><path class=\"ygrid crisp\" transform=\"translate(0,126.48)\" d=\"M432,0h288\" style=\"stroke: rgb(255, 255, 255); stroke-opacity: 1; stroke-width: 1px;\"/></g></g><g class=\"zerolinelayer\"><path class=\"yzl zl crisp\" transform=\"translate(0,320)\" d=\"M432,0h288\" style=\"stroke: rgb(255, 255, 255); stroke-opacity: 1; stroke-width: 2px;\"/></g><path class=\"xlines-below\"/><path class=\"ylines-below\"/><g class=\"overlines-below\"/><g class=\"xaxislayer-below\"/><g class=\"yaxislayer-below\"/><g class=\"overaxes-below\"/><g class=\"plot\" transform=\"translate(432,100)\" clip-path=\"url(#clip4a675axyplot)\"><g class=\"barlayer mlayer\"><g class=\"trace bars\" style=\"opacity: 1;\"><g class=\"points\"><g class=\"point\"><path d=\"M14.4,220V11H129.6V220Z\" style=\"vector-effect: non-scaling-stroke; opacity: 1; stroke-width: 0.5px; fill: rgb(0, 0, 255); fill-opacity: 1; stroke: rgb(229, 236, 246); stroke-opacity: 1;\"/></g><g class=\"point\"><path d=\"M158.4,220V199.1H273.6V220Z\" style=\"vector-effect: non-scaling-stroke; opacity: 1; stroke-width: 0.5px; fill: rgb(0, 0, 255); fill-opacity: 1; stroke: rgb(229, 236, 246); stroke-opacity: 1;\"/></g></g></g></g></g><g class=\"overplot\"/><path class=\"xlines-above crisp\" d=\"M0,0\" style=\"fill: none;\"/><path class=\"ylines-above crisp\" d=\"M0,0\" style=\"fill: none;\"/><g class=\"overlines-above\"/><g class=\"xaxislayer-above\"><g class=\"xtick\"><text text-anchor=\"middle\" x=\"0\" y=\"333\" transform=\"translate(504,0)\" style=\"font-family: 'Open Sans', verdana, arial, sans-serif; font-size: 12px; fill: rgb(42, 63, 95); fill-opacity: 1; white-space: pre; opacity: 1;\">Predicted Right</text></g><g class=\"xtick\"><text text-anchor=\"middle\" x=\"0\" y=\"333\" transform=\"translate(648,0)\" style=\"font-family: 'Open Sans', verdana, arial, sans-serif; font-size: 12px; fill: rgb(42, 63, 95); fill-opacity: 1; white-space: pre; opacity: 1;\">Predicted Wrong</text></g></g><g class=\"yaxislayer-above\"><g class=\"ytick\"><text text-anchor=\"end\" x=\"431\" y=\"4.199999999999999\" transform=\"translate(0,320)\" style=\"font-family: 'Open Sans', verdana, arial, sans-serif; font-size: 12px; fill: rgb(42, 63, 95); fill-opacity: 1; white-space: pre; opacity: 1;\">0</text></g><g class=\"ytick\"><text text-anchor=\"end\" x=\"431\" y=\"4.199999999999999\" style=\"font-family: 'Open Sans', verdana, arial, sans-serif; font-size: 12px; fill: rgb(42, 63, 95); fill-opacity: 1; white-space: pre; opacity: 1;\" transform=\"translate(0,281.3)\">50</text></g><g class=\"ytick\"><text text-anchor=\"end\" x=\"431\" y=\"4.199999999999999\" style=\"font-family: 'Open Sans', verdana, arial, sans-serif; font-size: 12px; fill: rgb(42, 63, 95); fill-opacity: 1; white-space: pre; opacity: 1;\" transform=\"translate(0,242.59)\">100</text></g><g class=\"ytick\"><text text-anchor=\"end\" x=\"431\" y=\"4.199999999999999\" style=\"font-family: 'Open Sans', verdana, arial, sans-serif; font-size: 12px; fill: rgb(42, 63, 95); fill-opacity: 1; white-space: pre; opacity: 1;\" transform=\"translate(0,203.89)\">150</text></g><g class=\"ytick\"><text text-anchor=\"end\" x=\"431\" y=\"4.199999999999999\" style=\"font-family: 'Open Sans', verdana, arial, sans-serif; font-size: 12px; fill: rgb(42, 63, 95); fill-opacity: 1; white-space: pre; opacity: 1;\" transform=\"translate(0,165.19)\">200</text></g><g class=\"ytick\"><text text-anchor=\"end\" x=\"431\" y=\"4.199999999999999\" style=\"font-family: 'Open Sans', verdana, arial, sans-serif; font-size: 12px; fill: rgb(42, 63, 95); fill-opacity: 1; white-space: pre; opacity: 1;\" transform=\"translate(0,126.48)\">250</text></g></g><g class=\"overaxes-above\"/></g></g><g class=\"polarlayer\"/><g class=\"ternarylayer\"/><g class=\"geolayer\"/><g class=\"funnelarealayer\"/><g class=\"pielayer\"/><g class=\"iciclelayer\"/><g class=\"treemaplayer\"/><g class=\"sunburstlayer\"/><g class=\"glimages\"/><g class=\"table\" overflow=\"visible\" width=\"448\" height=\"400\" transform=\"\" style=\"box-sizing: content-box; position: absolute; left: 0px; overflow: visible; shape-rendering: crispedges; pointer-events: all;\"><g class=\"table-control-view\" transform=\"translate(80,100)\" clip-path=\"url(#clip4a675a_scrollAreaBottomClip_5335d2true)\" style=\"box-sizing: content-box;\"><rect class=\"scroll-background\" fill=\"none\" width=\"288\" height=\"220\"/><g class=\"y-column\" transform=\"\" clip-path=\"url(#clip4a675a_columnBoundaryClippath_5335d2true_0)\"><g class=\"column-block\" id=\"cells1\" transform=\"\" style=\"cursor: default;\"><g class=\"column-cells\"><g class=\"column-cell\" transform=\"translate(0,28)\"><rect class=\"cell-rect\" width=\"192\" stroke-width=\"1\" style=\"stroke: rgb(255, 255, 255); stroke-opacity: 1; fill: rgb(235, 240, 248); fill-opacity: 1;\" height=\"24\"/><g class=\"cell-text-holder\" transform=\"translate(96,8)\" text-anchor=\"middle\" style=\"shape-rendering: geometricprecision;\"><text class=\"cell-text\" dy=\"0.75em\" style=\"cursor: auto; font-family: 'Open Sans', verdana, arial, sans-serif; font-size: 16px; fill: rgb(42, 63, 95); fill-opacity: 1;\">Accuracy</text></g></g><g class=\"column-cell\" transform=\"translate(0,52)\"><rect class=\"cell-rect\" width=\"192\" stroke-width=\"1\" style=\"stroke: rgb(255, 255, 255); stroke-opacity: 1; fill: rgb(235, 240, 248); fill-opacity: 1;\" height=\"55.8125\"/><g class=\"cell-text-holder\" transform=\"translate(36.6484375,24)\" style=\"shape-rendering: geometricprecision;\"><text class=\"cell-text\" dy=\"0\" x=\"0\" y=\"0\" style=\"cursor: auto; font-family: 'Open Sans', verdana, arial, sans-serif; font-size: 16px; fill: rgb(42, 63, 95); fill-opacity: 1; white-space: pre;\"><tspan class=\"line\" dy=\"0em\" x=\"0\" y=\"0\">Reds Predicted</tspan><tspan class=\"line\" dy=\"1.3em\" x=\"0\" y=\"0\">Green</tspan></text></g></g></g></g><g class=\"column-block\" id=\"cells2\" transform=\"\" style=\"cursor: default;\"><g class=\"column-cells\"/></g><g class=\"column-block\" id=\"header\" style=\"cursor: ew-resize;\"><g class=\"column-cells\"><g class=\"column-cell\" transform=\"\"><rect class=\"cell-rect\" width=\"192\" stroke-width=\"1\" height=\"28\" style=\"stroke: rgb(255, 255, 255); stroke-opacity: 1; fill: rgb(200, 212, 227); fill-opacity: 1;\"/><g class=\"cell-text-holder\" transform=\"translate(96,8)\" text-anchor=\"middle\" style=\"shape-rendering: geometricprecision;\"><text class=\"cell-text\" dy=\"0.75em\" style=\"cursor: auto; font-family: 'Open Sans', verdana, arial, sans-serif; font-size: 16px; fill: rgb(42, 63, 95); fill-opacity: 1;\">Metric</text></g></g></g></g><g class=\"column-boundary\"/><clipPath class=\"column-boundary-clippath\" id=\"clip4a675a_columnBoundaryClippath_5335d2true_0\"><rect class=\"column-boundary-rect\" fill=\"none\" width=\"194\" height=\"227\" x=\"-1\" y=\"-1\"/></clipPath></g><g class=\"y-column\" transform=\"translate(192,0)\" clip-path=\"url(#clip4a675a_columnBoundaryClippath_5335d2true_1)\"><g class=\"column-block\" id=\"cells1\" transform=\"\" style=\"cursor: default;\"><g class=\"column-cells\"><g class=\"column-cell\" transform=\"translate(0,28)\"><rect class=\"cell-rect\" width=\"96\" stroke-width=\"1\" style=\"stroke: rgb(255, 255, 255); stroke-opacity: 1; fill: rgb(235, 240, 248); fill-opacity: 1;\" height=\"24\"/><g class=\"cell-text-holder\" transform=\"translate(48,8)\" text-anchor=\"middle\" style=\"shape-rendering: geometricprecision;\"><text class=\"cell-text\" dy=\"0.75em\" style=\"cursor: auto; font-family: 'Open Sans', verdana, arial, sans-serif; font-size: 16px; fill: rgb(42, 63, 95); fill-opacity: 1;\">0.909</text></g></g><g class=\"column-cell\" transform=\"translate(0,52)\"><rect class=\"cell-rect\" width=\"96\" stroke-width=\"1\" style=\"stroke: rgb(255, 255, 255); stroke-opacity: 1; fill: rgb(235, 240, 248); fill-opacity: 1;\" height=\"55.8125\"/><g class=\"cell-text-holder\" transform=\"translate(48,8)\" text-anchor=\"middle\" style=\"shape-rendering: geometricprecision;\"><text class=\"cell-text\" dy=\"0.75em\" style=\"cursor: auto; font-family: 'Open Sans', verdana, arial, sans-serif; font-size: 16px; fill: rgb(42, 63, 95); fill-opacity: 1;\">0</text></g></g></g></g><g class=\"column-block\" id=\"cells2\" transform=\"\" style=\"cursor: default;\"><g class=\"column-cells\"/></g><g class=\"column-block\" id=\"header\" style=\"cursor: ew-resize;\"><g class=\"column-cells\"><g class=\"column-cell\" transform=\"\"><rect class=\"cell-rect\" width=\"96\" stroke-width=\"1\" height=\"28\" style=\"stroke: rgb(255, 255, 255); stroke-opacity: 1; fill: rgb(200, 212, 227); fill-opacity: 1;\"/><g class=\"cell-text-holder\" transform=\"translate(48,8)\" text-anchor=\"middle\" style=\"shape-rendering: geometricprecision;\"><text class=\"cell-text\" dy=\"0.75em\" style=\"cursor: auto; font-family: 'Open Sans', verdana, arial, sans-serif; font-size: 16px; fill: rgb(42, 63, 95); fill-opacity: 1;\">Value</text></g></g></g></g><g class=\"column-boundary\"/><clipPath class=\"column-boundary-clippath\" id=\"clip4a675a_columnBoundaryClippath_5335d2true_1\"><rect class=\"column-boundary-rect\" fill=\"none\" width=\"98\" height=\"227\" x=\"-1\" y=\"-1\"/></clipPath></g><g class=\"scrollbar-kit\" transform=\"translate(297,28)\" style=\"shape-rendering: geometricprecision;\"><g class=\"scrollbar\"><g class=\"scrollbar-slider\" transform=\"\"/></g></g><clipPath class=\"scroll-area-clip\" id=\"clip4a675a_scrollAreaBottomClip_5335d2true\"><rect class=\"scroll-area-clip-rect\" x=\"-45\" y=\"-5\" fill=\"none\" width=\"378\" height=\"225\"/></clipPath></g></g><defs id=\"topdefs-4a675a\"><g class=\"clips\"/></defs><g class=\"layer-above\"><g class=\"imagelayer\"/><g class=\"shapelayer\"/></g><g class=\"infolayer\"><g class=\"g-gtitle\"><text class=\"gtitle\" x=\"40\" y=\"50\" text-anchor=\"start\" dy=\"0em\" style=\"font-family: 'Open Sans', verdana, arial, sans-serif; font-size: 17px; fill: rgb(42, 63, 95); opacity: 1; font-weight: normal; white-space: pre;\">Evaluation Metrics</text></g><g class=\"g-xtitle\"/><g class=\"g-ytitle\"/></g></svg>"
      ]
     },
     "metadata": {},
     "output_type": "display_data"
    },
    {
     "name": "stdout",
     "output_type": "stream",
     "text": [
      "WRONG PREDICTIONS\n",
      "\n",
      "    true_labels predicted_labels\n",
      "0     [0, 0, 1]        [1, 0, 0]\n",
      "13    [0, 0, 1]        [1, 0, 0]\n",
      "20    [0, 0, 1]        [1, 0, 0]\n",
      "21    [0, 0, 1]        [1, 0, 0]\n",
      "37    [0, 0, 1]        [1, 0, 0]\n",
      "38    [0, 0, 1]        [1, 0, 0]\n",
      "40    [0, 0, 1]        [1, 0, 0]\n",
      "41    [0, 0, 1]        [1, 0, 0]\n",
      "42    [0, 0, 1]        [1, 0, 0]\n",
      "48    [0, 0, 1]        [1, 0, 0]\n",
      "50    [0, 0, 1]        [1, 0, 0]\n",
      "56    [0, 0, 1]        [1, 0, 0]\n",
      "59    [0, 0, 1]        [1, 0, 0]\n",
      "60    [0, 0, 1]        [1, 0, 0]\n",
      "65    [0, 0, 1]        [1, 0, 0]\n",
      "66    [0, 0, 1]        [1, 0, 0]\n",
      "68    [0, 0, 1]        [1, 0, 0]\n",
      "75    [0, 0, 1]        [1, 0, 0]\n",
      "79    [0, 0, 1]        [1, 0, 0]\n",
      "86    [0, 0, 1]        [1, 0, 0]\n",
      "96    [0, 0, 1]        [1, 0, 0]\n",
      "98    [0, 0, 1]        [1, 0, 0]\n",
      "99    [0, 0, 1]        [1, 0, 0]\n",
      "106   [0, 0, 1]        [1, 0, 0]\n",
      "288   [0, 1, 0]        [1, 0, 0]\n",
      "290   [0, 1, 0]        [1, 0, 0]\n",
      "292   [0, 1, 0]        [1, 0, 0]\n",
      "\n",
      "RED LIGHTS CLASSIFIED AS GREEN\n",
      "\n",
      "Empty DataFrame\n",
      "Columns: [true_labels, predicted_labels]\n",
      "Index: []\n"
     ]
    }
   ],
   "source": [
    "df_test_predictions = Classifier(img_size, crop_left, crop_top, w1, w2).run(df_test)\n",
    "\n",
    "metrics = Evaluator().run(df_test_true_labels[\"label\"], df_test_predictions[\"y_bar\"])\n",
    "\n",
    "print_metrics(metrics)"
   ]
  }
 ],
 "metadata": {
  "kernelspec": {
   "display_name": "Python 3 (ipykernel)",
   "language": "python",
   "name": "python3"
  },
  "language_info": {
   "codemirror_mode": {
    "name": "ipython",
    "version": 3
   },
   "file_extension": ".py",
   "mimetype": "text/x-python",
   "name": "python",
   "nbconvert_exporter": "python",
   "pygments_lexer": "ipython3",
   "version": "3.7.11"
  }
 },
 "nbformat": 4,
 "nbformat_minor": 5
}
